{
 "cells": [
  {
   "cell_type": "code",
   "execution_count": 25,
   "id": "531f4022",
   "metadata": {},
   "outputs": [
    {
     "name": "stdout",
     "output_type": "stream",
     "text": [
      "[1, 'a', 'cat', 2, 3, 'dog', 4, 5]\n"
     ]
    }
   ],
   "source": [
    "#[[1,'a',['cat'],2],[[[3]],'dog'],4,5]\n",
    "#PYTHON 101 derai bitirme projesi sonundadi task1\n",
    "#Bu kod sadece aşağıda verilen örnek için çalışmaktadır.\n",
    "def flatten(listA, listB):\n",
    "    for i in listA:\n",
    "        if type(i) == list:\n",
    "            for j in i:\n",
    "                if type(j) == list:\n",
    "                    for e in j:\n",
    "                        if type(e) == list:\n",
    "                            listB.extend(e)\n",
    "                        else:\n",
    "                            listB.append(e)\n",
    "                else:\n",
    "                    listB.append(j)\n",
    "        else:\n",
    "            listB.append(i)\n",
    "    \n",
    "    return listB\n",
    "listA = [[1,'a',['cat'],2],[[[3]],'dog'],4,5]\n",
    "listB = []\n",
    "\n",
    "                \n",
    "print(flatten(listA,listB))"
   ]
  },
  {
   "cell_type": "code",
   "execution_count": 27,
   "id": "a621a396",
   "metadata": {},
   "outputs": [
    {
     "name": "stdout",
     "output_type": "stream",
     "text": [
      "[[7, 6, 5], [4, 3], [2, 1]]\n"
     ]
    }
   ],
   "source": [
    "#[[1, 2], [3, 4], [5, 6, 7]] \n",
    "#task2 bu task'ta verilen listi ve içindeki list elemanlarını ters çevirecektir.\n",
    "\n",
    "listA = [[1, 2], [3, 4], [5, 6, 7]]\n",
    "for i in listA:\n",
    "    if type(i) == list:\n",
    "        i.reverse()\n",
    "listA.reverse()\n",
    "\n",
    "print(listA)"
   ]
  }
 ],
 "metadata": {
  "kernelspec": {
   "display_name": "Python 3 (ipykernel)",
   "language": "python",
   "name": "python3"
  },
  "language_info": {
   "codemirror_mode": {
    "name": "ipython",
    "version": 3
   },
   "file_extension": ".py",
   "mimetype": "text/x-python",
   "name": "python",
   "nbconvert_exporter": "python",
   "pygments_lexer": "ipython3",
   "version": "3.8.8"
  }
 },
 "nbformat": 4,
 "nbformat_minor": 5
}
